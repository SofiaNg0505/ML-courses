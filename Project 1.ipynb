{
 "cells": [
  {
   "cell_type": "code",
   "execution_count": 2,
   "metadata": {},
   "outputs": [],
   "source": [
    "#Load packages needed\n",
    "import numpy as np\n",
    "import matplotlib.pyplot as plt\n",
    "from sklearn import svm\n",
    "from sklearn import datasets\n",
    "from sklearn.model_selection import train_test_split\n",
    "from sklearn.metrics import accuracy_score\n",
    "from sklearn.linear_model import LogisticRegression\n",
    "from sklearn.neighbors import KNeighborsClassifier\n",
    "import random\n",
    "import seaborn as sns \n",
    "import pandas as pd\n",
    "import time\n",
    "from sklearn.metrics import roc_curve\n",
    "from sklearn.metrics import roc_auc_score"
   ]
  },
  {
   "cell_type": "code",
   "execution_count": 3,
   "metadata": {
    "scrolled": true
   },
   "outputs": [],
   "source": [
    "\n",
    "dataframe =  pd.read_csv('magic04.data', sep=\",\",names=[\"Length\",\"Widht\",\"Size\",\"Conc\",\"Conc1\",\"Asym\",\"M3Long\",\n",
    "                                                        \"m3Trans\",\"Alpha\",\"Dist\",\"class\"])\n",
    "\n",
    "X = dataframe[[\"Length\",\"Widht\",\"Size\",\"Conc\",\"Asym\",\"M3Long\",\n",
    "                                                        \"m3Trans\",\"Alpha\",\"Dist\"]]\n",
    "y = dataframe[\"class\"]\n",
    "X_train, X_test, y_train, y_test = train_test_split(X,y,test_size=0.3)\n",
    "#sns.pairplot(data=dataframe,\n",
    "#             palette=\"husl\",\n",
    "#             hue=\"class\",\n",
    "#             vars=[\"Length\",\"Widht\",\"Size\",\"Conc\",\"Conc1\",\"Asym\",\"M3Long\",\n",
    "#                                                        \"m3Trans\",\"Alpha\",\"Dist\"])\n",
    "#plt.suptitle(\"PairPlot of Data Without Std. Dev. Fields\",fontsize=18)\n",
    "#plt.tight_layout()\n",
    "#plt.show()   # pairplot without standard deviaton fields of data"
   ]
  },
  {
   "cell_type": "code",
   "execution_count": 10,
   "metadata": {},
   "outputs": [
    {
     "name": "stdout",
     "output_type": "stream",
     "text": [
      "(19020,)\n",
      "0         28.7967\n",
      "1         31.6036\n",
      "2        162.0520\n",
      "3         23.8172\n",
      "4         75.1362\n",
      "           ...   \n",
      "19015     21.3846\n",
      "19016     28.9452\n",
      "19017     75.4455\n",
      "19018    120.5135\n",
      "19019    187.1814\n",
      "Name: Length, Length: 19020, dtype: float64\n"
     ]
    }
   ],
   "source": [
    "\n",
    "print(y.shape)\n",
    "print(dataframe.Length)"
   ]
  },
  {
   "cell_type": "code",
   "execution_count": 11,
   "metadata": {},
   "outputs": [
    {
     "name": "stdout",
     "output_type": "stream",
     "text": [
      "--- 453.203161239624 seconds ---\n"
     ]
    }
   ],
   "source": [
    "#Create the model\n",
    "start_time = time.time()\n",
    "svmmodel = svm.SVC(kernel = 'linear')\n",
    "#Fit the model\n",
    "svmmodel.fit(X_train,y_train)\n",
    "print(\"--- %s seconds ---\" % (time.time() - start_time))\n"
   ]
  },
  {
   "cell_type": "code",
   "execution_count": 32,
   "metadata": {
    "scrolled": true
   },
   "outputs": [],
   "source": [
    "#Create a prediction array from the test features\n",
    "y_pred = svmmodel.predict(X_test)\n"
   ]
  },
  {
   "cell_type": "code",
   "execution_count": 33,
   "metadata": {
    "scrolled": true
   },
   "outputs": [
    {
     "name": "stdout",
     "output_type": "stream",
     "text": [
      "0.7877672625306694\n"
     ]
    }
   ],
   "source": [
    "print(accuracy_score(y_test,y_pred))"
   ]
  },
  {
   "cell_type": "code",
   "execution_count": 4,
   "metadata": {},
   "outputs": [],
   "source": [
    "#Load packages needed\n",
    "import numpy as np\n",
    "from sklearn import svm\n",
    "from sklearn import datasets\n",
    "from sklearn.model_selection import train_test_split\n",
    "from sklearn.metrics import accuracy_score\n",
    "from sklearn.linear_model import LogisticRegression\n",
    "from sklearn.neighbors import KNeighborsClassifier"
   ]
  },
  {
   "cell_type": "code",
   "execution_count": 5,
   "metadata": {},
   "outputs": [],
   "source": [
    "dataframe =  pd.read_csv('magic04.data', sep=\",\",names=[\"Length\",\"Widht\",\"Size\",\"Conc\",\"Conc1\",\"Asym\",\"M3Long\",\n",
    "                                                        \"m3Trans\",\"Alpha\",\"Dist\",\"class\"])\n",
    "\n",
    "X = dataframe[[\"Length\",\"Widht\",\"Size\",\"Conc\",\"Asym\",\"M3Long\",\n",
    "                                                        \"m3Trans\",\"Alpha\",\"Dist\"]]\n",
    "y = dataframe[\"class\"]\n",
    "\n",
    "#Split into training and test data\n",
    "X_train, X_test, y_train, y_test = train_test_split(X,y,test_size = 0.3, random_state = 4)\n"
   ]
  },
  {
   "cell_type": "code",
   "execution_count": 64,
   "metadata": {},
   "outputs": [
    {
     "name": "stdout",
     "output_type": "stream",
     "text": [
      "--- 0.6644673347473145 seconds ---\n",
      "\n",
      "Average effect of the model 0.784915403692477\n",
      "\n",
      "Accuracy of the model 0.7826848930949877\n",
      "--- 0.8913102149963379 seconds ---\n",
      "\n",
      "Average effect of the model 0.7918514742353265\n",
      "\n",
      "Accuracy of the model 0.7900455660708027\n",
      "--- 0.8323616981506348 seconds ---\n",
      "\n",
      "Average effect of the model 0.8018387985670983\n",
      "\n",
      "Accuracy of the model 0.8079214861549247\n",
      "--- 0.903167724609375 seconds ---\n",
      "\n",
      "Average effect of the model 0.8019457150730228\n",
      "\n",
      "Accuracy of the model 0.806869961444094\n",
      "--- 0.8888940811157227 seconds ---\n",
      "\n",
      "Average effect of the model 0.8086296500413337\n",
      "\n",
      "Accuracy of the model 0.81335436382755\n",
      "--- 0.8725910186767578 seconds ---\n",
      "\n",
      "Average effect of the model 0.8068864701019565\n",
      "\n",
      "Accuracy of the model 0.8116018226428321\n",
      "--- 1.023343801498413 seconds ---\n",
      "\n",
      "Average effect of the model 0.8134568751722238\n",
      "\n",
      "Accuracy of the model 0.8142306344199088\n",
      "--- 0.9207427501678467 seconds ---\n",
      "\n",
      "Average effect of the model 0.8089399283549187\n",
      "\n",
      "Accuracy of the model 0.8123028391167192\n",
      "--- 0.9992647171020508 seconds ---\n",
      "\n",
      "Average effect of the model 0.8118313585009643\n",
      "\n",
      "Accuracy of the model 0.8144058885383807\n",
      "--- 0.9753093719482422 seconds ---\n",
      "\n",
      "Average effect of the model 0.8117271975750896\n",
      "\n",
      "Accuracy of the model 0.8114265685243603\n",
      "--- 1.0269594192504883 seconds ---\n",
      "\n",
      "Average effect of the model 0.8134089280793606\n",
      "\n",
      "Accuracy of the model 0.81335436382755\n",
      "--- 0.9928219318389893 seconds ---\n",
      "\n",
      "Average effect of the model 0.8115158445852851\n",
      "\n",
      "Accuracy of the model 0.8105502979320014\n",
      "--- 1.078324317932129 seconds ---\n",
      "\n",
      "Average effect of the model 0.8137236153210252\n",
      "\n",
      "Accuracy of the model 0.814931650893796\n",
      "--- 1.0898902416229248 seconds ---\n",
      "\n",
      "Average effect of the model 0.8123601543124827\n",
      "\n",
      "Accuracy of the model 0.8142306344199088\n",
      "--- 1.2400519847869873 seconds ---\n",
      "\n",
      "Average effect of the model 0.8141452190686139\n",
      "\n",
      "Accuracy of the model 0.8140553803014371\n",
      "--- 1.1962332725524902 seconds ---\n",
      "\n",
      "Average effect of the model 0.811938550564894\n",
      "\n",
      "Accuracy of the model 0.8144058885383807\n",
      "--- 0.8948073387145996 seconds ---\n",
      "\n",
      "Average effect of the model 0.8131479746486637\n",
      "\n",
      "Accuracy of the model 0.8173852085524009\n",
      "--- 0.9959747791290283 seconds ---\n",
      "\n",
      "Average effect of the model 0.8113072471755304\n",
      "\n",
      "Accuracy of the model 0.8140553803014371\n",
      "--- 1.2120885848999023 seconds ---\n",
      "\n",
      "Average effect of the model 0.8129917332598512\n",
      "\n",
      "Accuracy of the model 0.8144058885383807\n",
      "--- 0.9786827564239502 seconds ---\n",
      "\n",
      "Average effect of the model 0.811358500964453\n",
      "\n",
      "Accuracy of the model 0.8130038555906064\n",
      "--- 0.9482433795928955 seconds ---\n",
      "\n",
      "Average effect of the model 0.8132532378065582\n",
      "\n",
      "Accuracy of the model 0.8144058885383807\n",
      "--- 1.025235891342163 seconds ---\n",
      "\n",
      "Average effect of the model 0.8112003306696058\n",
      "\n",
      "Accuracy of the model 0.8116018226428321\n",
      "--- 0.8978128433227539 seconds ---\n",
      "\n",
      "Average effect of the model 0.8121493524386882\n",
      "\n",
      "Accuracy of the model 0.8126533473536628\n",
      "--- 1.0190932750701904 seconds ---\n",
      "\n",
      "Average effect of the model 0.8094645907963626\n",
      "\n",
      "Accuracy of the model 0.8105502979320014\n",
      "--- 0.8397657871246338 seconds ---\n",
      "\n",
      "Average effect of the model 0.8108842656379167\n",
      "\n",
      "Accuracy of the model 0.8126533473536628\n",
      "--- 1.2602252960205078 seconds ---\n",
      "\n",
      "Average effect of the model 0.8097803802700468\n",
      "\n",
      "Accuracy of the model 0.8089730108657553\n",
      "--- 1.3049583435058594 seconds ---\n",
      "\n",
      "Average effect of the model 0.8112006062276109\n",
      "\n",
      "Accuracy of the model 0.8107255520504731\n",
      "--- 1.1955883502960205 seconds ---\n",
      "\n",
      "Average effect of the model 0.8098343896390189\n",
      "\n",
      "Accuracy of the model 0.80844724851034\n",
      "--- 1.3395414352416992 seconds ---\n",
      "\n",
      "Average effect of the model 0.8108335629650041\n",
      "\n",
      "Accuracy of the model 0.8098492814581143\n"
     ]
    },
    {
     "data": {
      "image/png": "[encoded data removed]",
      "text/plain": [
       "<Figure size 432x288 with 1 Axes>"
      ]
     },
     "metadata": {
      "needs_background": "light"
     },
     "output_type": "display_data"
    },
    {
     "name": "stdout",
     "output_type": "stream",
     "text": [
      "[0.784915403692477, 0.7918514742353265, 0.8018387985670983, 0.8019457150730228, 0.8086296500413337, 0.8068864701019565, 0.8134568751722238, 0.8089399283549187, 0.8118313585009643, 0.8117271975750896, 0.8134089280793606, 0.8115158445852851, 0.8137236153210252, 0.8123601543124827, 0.8141452190686139, 0.811938550564894, 0.8131479746486637, 0.8113072471755304, 0.8129917332598512, 0.811358500964453, 0.8132532378065582, 0.8112003306696058, 0.8121493524386882, 0.8094645907963626, 0.8108842656379167, 0.8097803802700468, 0.8112006062276109, 0.8098343896390189, 0.8108335629650041] [0.0007040084567225483, 0.00047348234162191663, 0.0005834880518762814, 0.0004249691072824232, 0.000516860164297569, 0.0005628105138932796, 0.000604259575109147, 0.0005358910277812434, 0.0005761948031840807, 0.0005225379367592482, 0.0005253974181224833, 0.000515951180370065, 0.0005588200537129296, 0.0006299391057812434, 0.0006007455488725929, 0.000646427573462329, 0.0005968930363401706, 0.0006245292369017502, 0.0005719841331286098, 0.0006217134392653528, 0.0005749837511895729, 0.0005912888197939489, 0.0005838567581303091, 0.0006341578856249763, 0.000592183196109902, 0.0005800373032947521, 0.000592728009138594, 0.000602912742951763, 0.0005686514366640669]\n"
     ]
    }
   ],
   "source": [
    "#Create the model\n",
    "from sklearn.model_selection import cross_val_score as CVS\n",
    "\n",
    "score = []\n",
    "#Fit the model\n",
    "\n",
    "cvs_mean=[]\n",
    "cvs_var = []\n",
    "\n",
    "lengd = range(1,30,1)\n",
    "for i in lengd:\n",
    "    start_time= time.time()\n",
    "    knn = KNeighborsClassifier(n_neighbors=i)\n",
    "    knn.fit(X_train,y_train)\n",
    "    score.append(knn.score(X_test, y_test))\n",
    "    print(\"--- %s seconds ---\" % (time.time() - start_time))\n",
    "    print(\"\")\n",
    "    y_pred = knn.predict(X_test)\n",
    "    cvsresult = CVS(knn, X,y, cv = 100)\n",
    "    cvs_mean.append(cvsresult.mean())\n",
    "    cvs_var.append(cvsresult.var())\n",
    "    print(\"Average effect of the model\", cvsresult.mean())\n",
    "    print(\"\")\n",
    "    print(\"Accuracy of the model\", accuracy_score(y_pred,y_test))\n",
    "plt.plot(lengd,cvs_mean)\n",
    "plt.plot(lengd,np.array(cvs_mean)+np.array(cvs_var)*2,c='red',linestyle='--')\n",
    "plt.plot(lengd,np.array(cvs_mean)-np.array(cvs_var)*2,c='red',linestyle='--')\n",
    "plt.title(\"Cross-validation curve\")\n",
    "plt.xlabel(\"k-neighbours\")\n",
    "plt.ylabel(\"Average effect of model\")\n",
    "plt.show()\n",
    "\n",
    "print(cvs_mean,cvs_var)"
   ]
  },
  {
   "cell_type": "code",
   "execution_count": 12,
   "metadata": {},
   "outputs": [],
   "source": [
    "#Load packages needed\n",
    "import numpy as np\n",
    "from sklearn import svm\n",
    "from sklearn import datasets\n",
    "from sklearn.model_selection import train_test_split\n",
    "from sklearn.metrics import accuracy_score\n",
    "from sklearn.linear_model import LogisticRegression\n"
   ]
  },
  {
   "cell_type": "code",
   "execution_count": 94,
   "metadata": {},
   "outputs": [],
   "source": [
    "#Load a toy model from sklearn\n",
    "dataframe =  pd.read_csv('magic04.data', sep=\",\",names=[\"Length\",\"Widht\",\"Size\",\"Conc\",\"Conc1\",\"Asym\",\"M3Long\",\n",
    "                                                        \"m3Trans\",\"Alpha\",\"Dist\",\"class\"])\n",
    "\n",
    "X = dataframe[[\"Length\",\"Widht\",\"Size\",\"Conc\",\"Asym\",\"M3Long\",\n",
    "                                                        \"m3Trans\",\"Alpha\",\"Dist\"]]\n",
    "y = dataframe[\"class\"]\n",
    "\n",
    "#Split into training and test data\n",
    "X_train, X_test, y_train, y_test = train_test_split(X,y,test_size = 0.2, random_state = 4)"
   ]
  },
  {
   "cell_type": "code",
   "execution_count": 84,
   "metadata": {},
   "outputs": [
    {
     "name": "stdout",
     "output_type": "stream",
     "text": [
      "--- 0.30089354515075684 seconds ---\n"
     ]
    },
    {
     "name": "stderr",
     "output_type": "stream",
     "text": [
      "C:\\ProgramData\\Anaconda3\\lib\\site-packages\\sklearn\\linear_model\\_logistic.py:763: ConvergenceWarning: lbfgs failed to converge (status=1):\n",
      "STOP: TOTAL NO. of ITERATIONS REACHED LIMIT.\n",
      "\n",
      "Increase the number of iterations (max_iter) or scale the data as shown in:\n",
      "    https://scikit-learn.org/stable/modules/preprocessing.html\n",
      "Please also refer to the documentation for alternative solver options:\n",
      "    https://scikit-learn.org/stable/modules/linear_model.html#logistic-regression\n",
      "  n_iter_i = _check_optimize_result(\n"
     ]
    }
   ],
   "source": [
    "#Create the model\n",
    "start_time=time.time()\n",
    "logReg = LogisticRegression(tol=0.00001)\n",
    "#Fit the model\n",
    "logReg.fit(X_train,y_train)\n",
    "print(\"--- %s seconds ---\" % (time.time() - start_time))"
   ]
  },
  {
   "cell_type": "code",
   "execution_count": 100,
   "metadata": {},
   "outputs": [],
   "source": [
    "y_pred = logReg.predict(X_test)"
   ]
  },
  {
   "cell_type": "code",
   "execution_count": 101,
   "metadata": {},
   "outputs": [
    {
     "data": {
      "text/plain": [
       "0.7860147213459516"
      ]
     },
     "execution_count": 101,
     "metadata": {},
     "output_type": "execute_result"
    }
   ],
   "source": [
    "accuracy_score(y_pred,y_test)"
   ]
  },
  {
   "cell_type": "markdown",
   "metadata": {},
   "source": [
    "\n"
   ]
  },
  {
   "cell_type": "code",
   "execution_count": 65,
   "metadata": {},
   "outputs": [],
   "source": [
    "import numpy as np\n",
    "import matplotlib.pyplot as plt\n",
    "from sklearn.metrics import confusion_matrix"
   ]
  },
  {
   "cell_type": "code",
   "execution_count": 85,
   "metadata": {},
   "outputs": [
    {
     "name": "stdout",
     "output_type": "stream",
     "text": [
      "0.8141452190686139\n",
      "(array([14], dtype=int64),)\n"
     ]
    },
    {
     "data": {
      "image/png": "[encoded data removed]",
      "text/plain": [
       "<Figure size 432x288 with 2 Axes>"
      ]
     },
     "metadata": {
      "needs_background": "light"
     },
     "output_type": "display_data"
    }
   ],
   "source": [
    "\n",
    "\n",
    "\n",
    "print(max(cvs_mean))\n",
    "max_index = np.where(cvs_mean == np.amax(cvs_mean))\n",
    "print(max_index)\n",
    "\n",
    "#Computing the confusion matrix\n",
    "cm = confusion_matrix(y_test, y_pred)\n",
    "fig, ax = plt.subplots()\n",
    "ax.figure.colorbar(im, ax=ax)\n",
    "\n",
    "\n",
    "dataframename = dataframe.columns.values\n",
    "labells=list(dataframename)\n",
    "\n",
    " \n",
    "knn = KNeighborsClassifier(n_neighbors=14)\n",
    "knn.fit(X_train,y_train)\n",
    "score.append(knn.score(X_test, y_test))\n",
    "y_pred = knn.predict(X_test)\n"
   ]
  },
  {
   "cell_type": "code",
   "execution_count": 81,
   "metadata": {
    "scrolled": true
   },
   "outputs": [
    {
     "data": {
      "image/png": "[encoded data removed]",
      "text/plain": [
       "<Figure size 432x288 with 2 Axes>"
      ]
     },
     "metadata": {
      "needs_background": "light"
     },
     "output_type": "display_data"
    }
   ],
   "source": [
    "#The make the plot more descriptive\n",
    "fig = plt.figure()\n",
    "im = plt.imshow(cm)\n",
    "plt.colorbar()\n",
    "\n",
    "\n",
    "plt.title('Confusion Matrix')\n",
    "plt.ylabel('True label')\n",
    "plt.xlabel('Predicted label')\n",
    "\n",
    "\n",
    "for i in range(cm.shape[0]):\n",
    "    for j in range(cm.shape[1]):\n",
    "        plt.text(j, i, format(cm[i, j]))\n",
    "fig.tight_layout()"
   ]
  },
  {
   "cell_type": "code",
   "execution_count": null,
   "metadata": {},
   "outputs": [],
   "source": []
  }
 ],
 "metadata": {
  "kernelspec": {
   "display_name": "Python 3",
   "language": "python",
   "name": "python3"
  },
  "language_info": {
   "codemirror_mode": {
    "name": "ipython",
    "version": 3
   },
   "file_extension": ".py",
   "mimetype": "text/x-python",
   "name": "python",
   "nbconvert_exporter": "python",
   "pygments_lexer": "ipython3",
   "version": "3.8.8"
  }
 },
 "nbformat": 4,
 "nbformat_minor": 2
}
